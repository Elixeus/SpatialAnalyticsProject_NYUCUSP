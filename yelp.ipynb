{
 "cells": [
  {
   "cell_type": "code",
   "execution_count": 10,
   "metadata": {
    "collapsed": true
   },
   "outputs": [],
   "source": [
    "import numpy as np\n",
    "import pandas as pd\n",
    "import json\n",
    "import rauth \n",
    "import time"
   ]
  },
  {
   "cell_type": "code",
   "execution_count": 5,
   "metadata": {
    "collapsed": true
   },
   "outputs": [],
   "source": [
    "def get_search_parameters(lat,long):\n",
    "      #See the Yelp API for more details\n",
    "      params = {}\n",
    "      params[\"term\"] = \"restaurant\"\n",
    "      params[\"ll\"] = \"{},{}\".format(str(lat),str(lon)\n",
    "      params[\"radius_filter\"] = \"2000\"\n",
    "      params[\"limit\"] = \"1\"\n",
    "\n",
    "      return params"
   ]
  },
  {
   "cell_type": "code",
   "execution_count": 86,
   "metadata": {
    "collapsed": true
   },
   "outputs": [],
   "source": [
    "def get_results(params):\n",
    " \n",
    "      #Obtain these from Yelp's manage access page\n",
    "      consumer_key = \"cfcCUGuefQQwKTGNjoE0Lg\"\n",
    "      consumer_secret = \"kq-fIb_37FfZJtjdGMXlhh6L3Gs\"\n",
    "      token = \"h6tOB2r_UQbQVfriEZY1NTiz_1_VTBUp\"\n",
    "      token_secret = \"oBPBMNmV65f2p3O3tx0DIPZIxcM\"\n",
    "\n",
    "      session = rauth.OAuth1Session(\n",
    "        consumer_key = consumer_key\n",
    "        ,consumer_secret = consumer_secret\n",
    "        ,access_token = token\n",
    "        ,access_token_secret = token_secret)\n",
    "\n",
    "      request = session.get(\"http://api.yelp.com/v2/search?term=poisoning\",params=params)\n",
    "\n",
    "      #Transforms the JSON API response into a Python dictionary\n",
    "      data = request.json()\n",
    "      session.close()\n",
    "\n",
    "      return data"
   ]
  },
  {
   "cell_type": "code",
   "execution_count": 87,
   "metadata": {
    "collapsed": false
   },
   "outputs": [],
   "source": [
    "def main():\n",
    "      locations = [(40.7127, -74.0059)]\n",
    "      api_calls = []\n",
    "      for lat,long in locations:\n",
    "        params = get_search_parameters(lat,long)\n",
    "        api_calls.append(get_results(params))\n",
    "        #Be a good internet citizen and rate-limit yourself\n",
    "        time.sleep(1.0)\n",
    "        return api_calls "
   ]
  },
  {
   "cell_type": "code",
   "execution_count": 88,
   "metadata": {
    "collapsed": false
   },
   "outputs": [],
   "source": [
    "some = main()"
   ]
  },
  {
   "cell_type": "code",
   "execution_count": 89,
   "metadata": {
    "collapsed": false
   },
   "outputs": [
    {
     "data": {
      "text/plain": [
       "[{u'businesses': [{u'categories': [[u'Sushi Bars', u'sushi'],\n",
       "     [u'Japanese', u'japanese']],\n",
       "    u'display_phone': u'+1-212-274-0428',\n",
       "    u'distance': 1135.319640041295,\n",
       "    u'id': u'sushi-azabu-new-york',\n",
       "    u'image_url': u'http://s3-media1.fl.yelpcdn.com/bphoto/9WWVkHICqfP7o19D33Qp3g/ms.jpg',\n",
       "    u'is_claimed': True,\n",
       "    u'is_closed': False,\n",
       "    u'location': {u'address': [u'428 Greenwich St'],\n",
       "     u'city': u'New York',\n",
       "     u'coordinate': {u'latitude': 40.7224304, u'longitude': -74.0099809},\n",
       "     u'country_code': u'US',\n",
       "     u'cross_streets': u'Vestry St & Laight St',\n",
       "     u'display_address': [u'428 Greenwich St',\n",
       "      u'TriBeCa',\n",
       "      u'New York, NY 10013'],\n",
       "     u'geo_accuracy': 9.5,\n",
       "     u'neighborhoods': [u'TriBeCa'],\n",
       "     u'postal_code': u'10013',\n",
       "     u'state_code': u'NY'},\n",
       "    u'menu_date_updated': 1428694549,\n",
       "    u'menu_provider': u'yelp',\n",
       "    u'mobile_url': u'http://m.yelp.com/biz/sushi-azabu-new-york',\n",
       "    u'name': u'Sushi Azabu',\n",
       "    u'phone': u'2122740428',\n",
       "    u'rating': 4.0,\n",
       "    u'rating_img_url': u'http://s3-media4.fl.yelpcdn.com/assets/2/www/img/c2f3dd9799a5/ico/stars/v1/stars_4.png',\n",
       "    u'rating_img_url_large': u'http://s3-media2.fl.yelpcdn.com/assets/2/www/img/ccf2b76faa2c/ico/stars/v1/stars_large_4.png',\n",
       "    u'rating_img_url_small': u'http://s3-media4.fl.yelpcdn.com/assets/2/www/img/f62a5be2f902/ico/stars/v1/stars_small_4.png',\n",
       "    u'review_count': 319,\n",
       "    u'snippet_image_url': u'http://s3-media1.fl.yelpcdn.com/photo/FYRIF7bVXXv_Q6f5RYvKwg/ms.jpg',\n",
       "    u'snippet_text': u\"Michelin star well deserved.\\n\\nService: 5/5     We booked three days ago for a saturday dinner spot. They didn't have any more spots available for the sushi...\",\n",
       "    u'url': u'http://www.yelp.com/biz/sushi-azabu-new-york'}],\n",
       "  u'region': {u'center': {u'latitude': 40.717565199999996,\n",
       "    u'longitude': -74.00794045},\n",
       "   u'span': {u'latitude_delta': 0.010703440000000342,\n",
       "    u'longitude_delta': 0.004488989999998694}},\n",
       "  u'total': 360}]"
      ]
     },
     "execution_count": 89,
     "metadata": {},
     "output_type": "execute_result"
    }
   ],
   "source": [
    "some"
   ]
  },
  {
   "cell_type": "code",
   "execution_count": 90,
   "metadata": {
    "collapsed": false
   },
   "outputs": [
    {
     "data": {
      "text/plain": [
       "{u'categories': [[u'Sushi Bars', u'sushi'], [u'Japanese', u'japanese']],\n",
       " u'display_phone': u'+1-212-274-0428',\n",
       " u'distance': 1135.319640041295,\n",
       " u'id': u'sushi-azabu-new-york',\n",
       " u'image_url': u'http://s3-media1.fl.yelpcdn.com/bphoto/9WWVkHICqfP7o19D33Qp3g/ms.jpg',\n",
       " u'is_claimed': True,\n",
       " u'is_closed': False,\n",
       " u'location': {u'address': [u'428 Greenwich St'],\n",
       "  u'city': u'New York',\n",
       "  u'coordinate': {u'latitude': 40.7224304, u'longitude': -74.0099809},\n",
       "  u'country_code': u'US',\n",
       "  u'cross_streets': u'Vestry St & Laight St',\n",
       "  u'display_address': [u'428 Greenwich St', u'TriBeCa', u'New York, NY 10013'],\n",
       "  u'geo_accuracy': 9.5,\n",
       "  u'neighborhoods': [u'TriBeCa'],\n",
       "  u'postal_code': u'10013',\n",
       "  u'state_code': u'NY'},\n",
       " u'menu_date_updated': 1428694549,\n",
       " u'menu_provider': u'yelp',\n",
       " u'mobile_url': u'http://m.yelp.com/biz/sushi-azabu-new-york',\n",
       " u'name': u'Sushi Azabu',\n",
       " u'phone': u'2122740428',\n",
       " u'rating': 4.0,\n",
       " u'rating_img_url': u'http://s3-media4.fl.yelpcdn.com/assets/2/www/img/c2f3dd9799a5/ico/stars/v1/stars_4.png',\n",
       " u'rating_img_url_large': u'http://s3-media2.fl.yelpcdn.com/assets/2/www/img/ccf2b76faa2c/ico/stars/v1/stars_large_4.png',\n",
       " u'rating_img_url_small': u'http://s3-media4.fl.yelpcdn.com/assets/2/www/img/f62a5be2f902/ico/stars/v1/stars_small_4.png',\n",
       " u'review_count': 319,\n",
       " u'snippet_image_url': u'http://s3-media1.fl.yelpcdn.com/photo/FYRIF7bVXXv_Q6f5RYvKwg/ms.jpg',\n",
       " u'snippet_text': u\"Michelin star well deserved.\\n\\nService: 5/5     We booked three days ago for a saturday dinner spot. They didn't have any more spots available for the sushi...\",\n",
       " u'url': u'http://www.yelp.com/biz/sushi-azabu-new-york'}"
      ]
     },
     "execution_count": 90,
     "metadata": {},
     "output_type": "execute_result"
    }
   ],
   "source": [
    "some[0]['businesses'][0]"
   ]
  },
  {
   "cell_type": "code",
   "execution_count": 29,
   "metadata": {
    "collapsed": false
   },
   "outputs": [],
   "source": [
    "dicto = {}\n",
    "dicto['a']= 'a'"
   ]
  },
  {
   "cell_type": "code",
   "execution_count": 32,
   "metadata": {
    "collapsed": false
   },
   "outputs": [
    {
     "ename": "SyntaxError",
     "evalue": "invalid syntax (<ipython-input-32-9d77be6f320a>, line 1)",
     "output_type": "error",
     "traceback": [
      "\u001b[1;36m  File \u001b[1;32m\"<ipython-input-32-9d77be6f320a>\"\u001b[1;36m, line \u001b[1;32m1\u001b[0m\n\u001b[1;33m    dicto{'a'}\u001b[0m\n\u001b[1;37m         ^\u001b[0m\n\u001b[1;31mSyntaxError\u001b[0m\u001b[1;31m:\u001b[0m invalid syntax\n"
     ]
    }
   ],
   "source": []
  },
  {
   "cell_type": "code",
   "execution_count": null,
   "metadata": {
    "collapsed": true
   },
   "outputs": [],
   "source": []
  }
 ],
 "metadata": {
  "kernelspec": {
   "display_name": "Python 2",
   "language": "python",
   "name": "python2"
  },
  "language_info": {
   "codemirror_mode": {
    "name": "ipython",
    "version": 2
   },
   "file_extension": ".py",
   "mimetype": "text/x-python",
   "name": "python",
   "nbconvert_exporter": "python",
   "pygments_lexer": "ipython2",
   "version": "2.7.10"
  }
 },
 "nbformat": 4,
 "nbformat_minor": 0
}
