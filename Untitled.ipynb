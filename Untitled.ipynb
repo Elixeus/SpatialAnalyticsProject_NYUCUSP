{
 "cells": [
  {
   "cell_type": "code",
   "execution_count": 3,
   "metadata": {
    "collapsed": false
   },
   "outputs": [
    {
     "ename": "NameError",
     "evalue": "name 'ls' is not defined",
     "output_type": "error",
     "traceback": [
      "\u001b[1;31m---------------------------------------------------------------------------\u001b[0m",
      "\u001b[1;31mNameError\u001b[0m                                 Traceback (most recent call last)",
      "\u001b[1;32m<ipython-input-3-c9381a4f228d>\u001b[0m in \u001b[0;36m<module>\u001b[1;34m()\u001b[0m\n\u001b[0;32m      1\u001b[0m \u001b[1;32mimport\u001b[0m \u001b[0mnumpy\u001b[0m \u001b[1;32mas\u001b[0m \u001b[0mnp\u001b[0m\u001b[1;33m\u001b[0m\u001b[0m\n\u001b[0;32m      2\u001b[0m \u001b[1;32mimport\u001b[0m \u001b[0mpandas\u001b[0m \u001b[1;32mas\u001b[0m \u001b[0mpd\u001b[0m\u001b[1;33m\u001b[0m\u001b[0m\n\u001b[1;32m----> 3\u001b[1;33m \u001b[1;32mprint\u001b[0m \u001b[0mls\u001b[0m\u001b[1;33m\u001b[0m\u001b[0m\n\u001b[0m",
      "\u001b[1;31mNameError\u001b[0m: name 'ls' is not defined"
     ]
    }
   ],
   "source": [
    "import numpy as np\n",
    "import pandas as pd\n"
   ]
  },
  {
   "cell_type": "code",
   "execution_count": 4,
   "metadata": {
    "collapsed": false
   },
   "outputs": [
    {
     "name": "stdout",
     "output_type": "stream",
     "text": [
      " Volume in drive C has no label.\n",
      " Volume Serial Number is CA46-F45B\n",
      "\n",
      " Directory of C:\\Users\\priya\\Desktop\\Spatial\\SpatialAnalyticsProject_NYUCUSP\n",
      "\n",
      "12/07/2015  05:55 PM    <DIR>          .\n",
      "12/07/2015  05:55 PM    <DIR>          ..\n",
      "12/07/2015  05:55 PM    <DIR>          .ipynb_checkpoints\n",
      "12/03/2015  08:18 PM                 0 .Rhistory\n",
      "12/03/2015  08:18 PM           733,371 311extract.csv\n",
      "12/03/2015  08:18 PM             1,626 brainstorm.txt\n",
      "12/07/2015  05:53 PM         7,607,149 dataForGeocoding.csv\n",
      "12/03/2015  08:18 PM         1,609,234 datascientist_mantra.jpg\n",
      "12/07/2015  03:49 PM             9,669 Inspection.ipynb\n",
      "12/06/2015  05:19 PM         3,839,595 inspections_clean.csv\n",
      "12/03/2015  08:18 PM             1,497 MEETING2.md\n",
      "12/03/2015  08:18 PM         1,501,589 nyc-pediacities-neighborhoods-v3-polygon.geojson\n",
      "12/03/2015  08:18 PM               504 README.md\n",
      "12/03/2015  08:09 PM               806 Spatial Discussion for.txt\n",
      "12/07/2015  05:54 PM            22,825 Trial.ipynb\n",
      "12/07/2015  05:55 PM                72 Untitled.ipynb\n",
      "12/06/2015  06:17 PM             2,293 Untitled1.ipynb\n",
      "12/07/2015  04:02 PM             9,347 yelp.ipynb\n",
      "12/03/2015  06:48 PM             1,576 yelp.py\n",
      "              16 File(s)     15,341,153 bytes\n",
      "               3 Dir(s)  210,840,010,752 bytes free\n"
     ]
    }
   ],
   "source": [
    "ls"
   ]
  },
  {
   "cell_type": "code",
   "execution_count": 5,
   "metadata": {
    "collapsed": true
   },
   "outputs": [],
   "source": [
    "data = pd.read_csv('dataForGeocoding.csv')"
   ]
  },
  {
   "cell_type": "code",
   "execution_count": 7,
   "metadata": {
    "collapsed": false
   },
   "outputs": [
    {
     "data": {
      "text/plain": [
       "Location((40.5794799796, -73.8371322245, 0.0))"
      ]
     },
     "execution_count": 7,
     "metadata": {},
     "output_type": "execute_result"
    }
   ],
   "source": [
    "from geopy.geocoders import Nominatim\n",
    "geolocator = Nominatim()\n",
    "geolocator.geocode('189 BEACH 116TH ST, QUEENS, New York 11694')"
   ]
  },
  {
   "cell_type": "code",
   "execution_count": 9,
   "metadata": {
    "collapsed": false
   },
   "outputs": [],
   "source": [
    "path = 'dataForGeocoding.csv'\n",
    "data = pd.read_csv(path)\n",
    "from geopy.geocoders import Nominatim\n",
    "geolocator = Nominatim()\n",
    "data['latlon'] = 0\n",
    "for i in data['ADDRESS'].index[:10]:\n",
    "    try:\n",
    "        loc = geolocator.geocode(data['ADDRESS'][i])\n",
    "        data['latlon'][i] = (loc.latitude, loc.longitude)\n",
    "    except:\n",
    "        data['latlon'][i] = 'ERROR'"
   ]
  },
  {
   "cell_type": "code",
   "execution_count": 10,
   "metadata": {
    "collapsed": false
   },
   "outputs": [
    {
     "data": {
      "text/html": [
       "<div>\n",
       "<table border=\"1\" class=\"dataframe\">\n",
       "  <thead>\n",
       "    <tr style=\"text-align: right;\">\n",
       "      <th></th>\n",
       "      <th>Unnamed: 0</th>\n",
       "      <th>Unnamed: 0.1</th>\n",
       "      <th>Unnamed: 0.1</th>\n",
       "      <th>CAMIS</th>\n",
       "      <th>DBA</th>\n",
       "      <th>BORO</th>\n",
       "      <th>BUILDING</th>\n",
       "      <th>STREET</th>\n",
       "      <th>ZIPCODE</th>\n",
       "      <th>CUISINE DESCRIPTION</th>\n",
       "      <th>GRADE</th>\n",
       "      <th>SCORE</th>\n",
       "      <th>MONTH</th>\n",
       "      <th>STREET_ADDRESS</th>\n",
       "      <th>add</th>\n",
       "      <th>str</th>\n",
       "      <th>ADDRESS</th>\n",
       "      <th>latlon</th>\n",
       "    </tr>\n",
       "  </thead>\n",
       "  <tbody>\n",
       "    <tr>\n",
       "      <th>0</th>\n",
       "      <td>0</td>\n",
       "      <td>0</td>\n",
       "      <td>0</td>\n",
       "      <td>30075445</td>\n",
       "      <td>MORRIS PARK BAKE SHOP</td>\n",
       "      <td>BRONX</td>\n",
       "      <td>1007</td>\n",
       "      <td>MORRIS PARK AVE</td>\n",
       "      <td>10462</td>\n",
       "      <td>Bakery</td>\n",
       "      <td>A</td>\n",
       "      <td>2</td>\n",
       "      <td>3</td>\n",
       "      <td>1007 MORRIS PARK AVE</td>\n",
       "      <td>1007 MORRIS PARK AVE, BRONX, New York 10462</td>\n",
       "      <td>MORRIS PARK AVE</td>\n",
       "      <td>1007 MORRIS PARK AVE, BRONX, New York 10462</td>\n",
       "      <td>0</td>\n",
       "    </tr>\n",
       "    <tr>\n",
       "      <th>1</th>\n",
       "      <td>1</td>\n",
       "      <td>1</td>\n",
       "      <td>1</td>\n",
       "      <td>30112340</td>\n",
       "      <td>WENDY'S</td>\n",
       "      <td>BROOKLYN</td>\n",
       "      <td>469</td>\n",
       "      <td>FLATBUSH AVENUE                               ...</td>\n",
       "      <td>11225</td>\n",
       "      <td>Hamburgers</td>\n",
       "      <td>A</td>\n",
       "      <td>8</td>\n",
       "      <td>12</td>\n",
       "      <td>469        FLATBUSH AVENUE                    ...</td>\n",
       "      <td>469 FLATBUSH AVENUE, BROOKLYN, New York 11225</td>\n",
       "      <td>FLATBUSH AVENUE                               ...</td>\n",
       "      <td>469 FLATBUSH AVENUE, BROOKLYN, New York 11225</td>\n",
       "      <td>0</td>\n",
       "    </tr>\n",
       "    <tr>\n",
       "      <th>2</th>\n",
       "      <td>2</td>\n",
       "      <td>6</td>\n",
       "      <td>6</td>\n",
       "      <td>30112340</td>\n",
       "      <td>WENDY'S</td>\n",
       "      <td>BROOKLYN</td>\n",
       "      <td>469</td>\n",
       "      <td>FLATBUSH AVENUE                               ...</td>\n",
       "      <td>11225</td>\n",
       "      <td>Hamburgers</td>\n",
       "      <td>B</td>\n",
       "      <td>23</td>\n",
       "      <td>7</td>\n",
       "      <td>469        FLATBUSH AVENUE                    ...</td>\n",
       "      <td>469 FLATBUSH AVENUE, BROOKLYN, New York 11225</td>\n",
       "      <td>FLATBUSH AVENUE                               ...</td>\n",
       "      <td>469 FLATBUSH AVENUE, BROOKLYN, New York 11225</td>\n",
       "      <td>0</td>\n",
       "    </tr>\n",
       "    <tr>\n",
       "      <th>3</th>\n",
       "      <td>3</td>\n",
       "      <td>12</td>\n",
       "      <td>12</td>\n",
       "      <td>30191841</td>\n",
       "      <td>DJ REYNOLDS PUB AND RESTAURANT</td>\n",
       "      <td>MANHATTAN</td>\n",
       "      <td>351</td>\n",
       "      <td>WEST   57 STREET                              ...</td>\n",
       "      <td>10019</td>\n",
       "      <td>Irish</td>\n",
       "      <td>A</td>\n",
       "      <td>2</td>\n",
       "      <td>9</td>\n",
       "      <td>351        WEST   57 STREET                   ...</td>\n",
       "      <td>351 WEST   57 STREET, MANHATTAN, New York 10019</td>\n",
       "      <td>WEST   57TH STREET                            ...</td>\n",
       "      <td>351 WEST   57TH STREET, MANHATTAN, New York 10019</td>\n",
       "      <td>0</td>\n",
       "    </tr>\n",
       "    <tr>\n",
       "      <th>4</th>\n",
       "      <td>4</td>\n",
       "      <td>13</td>\n",
       "      <td>13</td>\n",
       "      <td>40356018</td>\n",
       "      <td>RIVIERA CATERER</td>\n",
       "      <td>BROOKLYN</td>\n",
       "      <td>2780</td>\n",
       "      <td>STILLWELL AVENUE</td>\n",
       "      <td>11224</td>\n",
       "      <td>American</td>\n",
       "      <td>A</td>\n",
       "      <td>5</td>\n",
       "      <td>6</td>\n",
       "      <td>2780 STILLWELL AVENUE</td>\n",
       "      <td>2780 STILLWELL AVENUE, BROOKLYN, New York 11224</td>\n",
       "      <td>STILLWELL AVENUE</td>\n",
       "      <td>2780 STILLWELL AVENUE, BROOKLYN, New York 11224</td>\n",
       "      <td>0</td>\n",
       "    </tr>\n",
       "  </tbody>\n",
       "</table>\n",
       "</div>"
      ],
      "text/plain": [
       "   Unnamed: 0  Unnamed: 0.1  Unnamed: 0.1     CAMIS  \\\n",
       "0           0             0             0  30075445   \n",
       "1           1             1             1  30112340   \n",
       "2           2             6             6  30112340   \n",
       "3           3            12            12  30191841   \n",
       "4           4            13            13  40356018   \n",
       "\n",
       "                              DBA       BORO    BUILDING  \\\n",
       "0           MORRIS PARK BAKE SHOP      BRONX        1007   \n",
       "1                         WENDY'S   BROOKLYN  469          \n",
       "2                         WENDY'S   BROOKLYN  469          \n",
       "3  DJ REYNOLDS PUB AND RESTAURANT  MANHATTAN  351          \n",
       "4                 RIVIERA CATERER   BROOKLYN        2780   \n",
       "\n",
       "                                              STREET  ZIPCODE  \\\n",
       "0                                    MORRIS PARK AVE    10462   \n",
       "1  FLATBUSH AVENUE                               ...    11225   \n",
       "2  FLATBUSH AVENUE                               ...    11225   \n",
       "3  WEST   57 STREET                              ...    10019   \n",
       "4                                   STILLWELL AVENUE    11224   \n",
       "\n",
       "  CUISINE DESCRIPTION GRADE  SCORE  MONTH  \\\n",
       "0              Bakery     A      2      3   \n",
       "1          Hamburgers     A      8     12   \n",
       "2          Hamburgers     B     23      7   \n",
       "3               Irish     A      2      9   \n",
       "4           American      A      5      6   \n",
       "\n",
       "                                      STREET_ADDRESS  \\\n",
       "0                               1007 MORRIS PARK AVE   \n",
       "1  469        FLATBUSH AVENUE                    ...   \n",
       "2  469        FLATBUSH AVENUE                    ...   \n",
       "3  351        WEST   57 STREET                   ...   \n",
       "4                              2780 STILLWELL AVENUE   \n",
       "\n",
       "                                               add  \\\n",
       "0      1007 MORRIS PARK AVE, BRONX, New York 10462   \n",
       "1    469 FLATBUSH AVENUE, BROOKLYN, New York 11225   \n",
       "2    469 FLATBUSH AVENUE, BROOKLYN, New York 11225   \n",
       "3  351 WEST   57 STREET, MANHATTAN, New York 10019   \n",
       "4  2780 STILLWELL AVENUE, BROOKLYN, New York 11224   \n",
       "\n",
       "                                                 str  \\\n",
       "0                                    MORRIS PARK AVE   \n",
       "1  FLATBUSH AVENUE                               ...   \n",
       "2  FLATBUSH AVENUE                               ...   \n",
       "3  WEST   57TH STREET                            ...   \n",
       "4                                   STILLWELL AVENUE   \n",
       "\n",
       "                                             ADDRESS  latlon  \n",
       "0        1007 MORRIS PARK AVE, BRONX, New York 10462       0  \n",
       "1      469 FLATBUSH AVENUE, BROOKLYN, New York 11225       0  \n",
       "2      469 FLATBUSH AVENUE, BROOKLYN, New York 11225       0  \n",
       "3  351 WEST   57TH STREET, MANHATTAN, New York 10019       0  \n",
       "4    2780 STILLWELL AVENUE, BROOKLYN, New York 11224       0  "
      ]
     },
     "execution_count": 10,
     "metadata": {},
     "output_type": "execute_result"
    }
   ],
   "source": [
    "data.head()"
   ]
  },
  {
   "cell_type": "code",
   "execution_count": null,
   "metadata": {
    "collapsed": true
   },
   "outputs": [],
   "source": []
  }
 ],
 "metadata": {
  "kernelspec": {
   "display_name": "Python 2",
   "language": "python",
   "name": "python2"
  },
  "language_info": {
   "codemirror_mode": {
    "name": "ipython",
    "version": 2
   },
   "file_extension": ".py",
   "mimetype": "text/x-python",
   "name": "python",
   "nbconvert_exporter": "python",
   "pygments_lexer": "ipython2",
   "version": "2.7.10"
  }
 },
 "nbformat": 4,
 "nbformat_minor": 0
}
