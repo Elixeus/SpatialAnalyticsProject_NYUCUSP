{
 "cells": [
  {
   "cell_type": "code",
   "execution_count": 1,
   "metadata": {
    "collapsed": true
   },
   "outputs": [],
   "source": [
    "import numpy as np\n",
    "import pandas as pd\n",
    "import json\n",
    "import rauth \n",
    "import time\n",
    "import requests\n",
    "import urllib2\n",
    "from lxml import html\n",
    "from bs4 import BeautifulSoup\n",
    "from urllib2 import urlopen"
   ]
  },
  {
   "cell_type": "code",
   "execution_count": 2,
   "metadata": {
    "collapsed": false
   },
   "outputs": [
    {
     "name": "stderr",
     "output_type": "stream",
     "text": [
      "C:\\Users\\priya\\Anaconda2\\lib\\site-packages\\pandas\\core\\frame.py:1942: UserWarning: Boolean Series key will be reindexed to match DataFrame index.\n",
      "  \"DataFrame index.\", UserWarning)\n"
     ]
    }
   ],
   "source": [
    "df = pd.read_csv('inspections_clean.csv')\n",
    "ndf = df[df['GRADE']!='P']\n",
    "data = ndf[df['GRADE']!='Z']"
   ]
  },
  {
   "cell_type": "code",
   "execution_count": 3,
   "metadata": {
    "collapsed": false
   },
   "outputs": [
    {
     "name": "stdout",
     "output_type": "stream",
     "text": [
      "wendy's brooklyn\n"
     ]
    }
   ],
   "source": [
    "f = df['DBA'][1].lower()\n",
    "b = df['BORO'][1].lower()\n",
    "print f,b\n"
   ]
  },
  {
   "cell_type": "code",
   "execution_count": 4,
   "metadata": {
    "collapsed": false
   },
   "outputs": [],
   "source": [
    "#I need the names of restaurants and I will put them in the URL for API and scrape that link given back in the response\n",
    "#Then I will also add the date check for 2013\n",
    "#Getting the names of restaurants first\n",
    "names = []\n",
    "boro =[]\n",
    "fn = []\n",
    "for i in range(10):\n",
    "    names.append((df['DBA'][i]).lower())\n",
    "    boro.append((df['BORO'][i]).lower())\n",
    "    \n",
    "    \n"
   ]
  },
  {
   "cell_type": "code",
   "execution_count": 5,
   "metadata": {
    "collapsed": false
   },
   "outputs": [],
   "source": [
    "def get_search_parameters(loc):\n",
    "    \n",
    "    \n",
    "      #See the Yelp API for more details\n",
    "    params = {}\n",
    "    params[\"term\"] = \"restaurant\"\n",
    "    params['location'] = \"{}\".format(str(loc))\n",
    "    #params[\"ll\"] = \"{},{}\".format(str(lat),str(lon))\n",
    "    params[\"radius_filter\"] = \"2000\"\n",
    "    params[\"limit\"] = \"1\"\n",
    "\n",
    "    return params"
   ]
  },
  {
   "cell_type": "code",
   "execution_count": 6,
   "metadata": {
    "collapsed": true
   },
   "outputs": [],
   "source": [
    "def get_results(params):\n",
    "    \n",
    " \n",
    "      #Obtain these from Yelp's manage access page\n",
    "    consumer_key = \"cfcCUGuefQQwKTGNjoE0Lg\"\n",
    "    consumer_secret = \"kq-fIb_37FfZJtjdGMXlhh6L3Gs\"\n",
    "    token = \"h6tOB2r_UQbQVfriEZY1NTiz_1_VTBUp\"\n",
    "    token_secret = \"oBPBMNmV65f2p3O3tx0DIPZIxcM\"\n",
    "\n",
    "    session = rauth.OAuth1Session(\n",
    "        consumer_key = consumer_key\n",
    "        ,consumer_secret = consumer_secret\n",
    "        ,access_token = token\n",
    "        ,access_token_secret = token_secret)\n",
    "\n",
    "    request = session.get(\"http://api.yelp.com/v2/search?term=morris+park+bake+shop\",params=params)\n",
    "\n",
    "      #Transforms the JSON API response into a Python dictionary\n",
    "    data = request.json()\n",
    "    session.close()\n",
    "\n",
    "    return data"
   ]
  },
  {
   "cell_type": "code",
   "execution_count": 7,
   "metadata": {
    "collapsed": true
   },
   "outputs": [],
   "source": [
    "def main():\n",
    "    \n",
    "    \n",
    "    #locations = [(40.7127, -74.0059)]\n",
    "    api_calls = []\n",
    "#     for lat,lon in locations:\n",
    "    params = get_search_parameters('bronx')\n",
    "    api_calls.append(get_results(params))\n",
    "        #Be a good internet citizen and rate-limit yourself\n",
    "    time.sleep(1.0)\n",
    "    return api_calls "
   ]
  },
  {
   "cell_type": "code",
   "execution_count": 41,
   "metadata": {
    "collapsed": false
   },
   "outputs": [],
   "source": [
    "def scraping(url):\n",
    "    global pg \n",
    "    rev =[]\n",
    "    #url = 'http://www.yelp.com/biz/whiskey-tavern-new-york'\n",
    "    html = urllib2.urlopen(url).read()\n",
    "    soup = BeautifulSoup(html,'lxml')\n",
    "    reviews = soup.findAll('p',itemprop='description')\n",
    "#     title = soup.find('h1',itemprop=\"name\")\n",
    "#     saddress = soup.find('span',itemprop=\"streetAddress\")\n",
    "#     postalcode = soup.find('span',itemprop=\"postalCode\")\n",
    "#     reviews = soup.findAll('p',itemprop='description')\n",
    "    dates = soup.findAll('meta',itemprop='datePublished')\n",
    "    d = map(str,dates)\n",
    "    #import bleach\n",
    "    #clean = bleach.clean(reviews, tags=[], strip=True)\n",
    "    \n",
    "    for i in range(len(dates)):\n",
    "        if str('2013') in d[i]:\n",
    "            rev.append(str(reviews[i]))\n",
    "                #return reviews\n",
    "\n",
    "#         if pg!=140:    \n",
    "#                 url = 'http://www.yelp.com/biz/whiskey-tavern-new-york?start=',str(20*pg)\n",
    "#                 reviews= scraping(url)\n",
    "#                 rev.append(reviews)\n",
    "#                 pg=pg+20\n",
    "\n",
    "        \n",
    "    return rev   "
   ]
  },
  {
   "cell_type": "code",
   "execution_count": 42,
   "metadata": {
    "collapsed": false
   },
   "outputs": [],
   "source": [
    "global pg\n",
    "global reviews \n",
    "reviews=[]\n",
    "pg = 0\n",
    "some = main()"
   ]
  },
  {
   "cell_type": "code",
   "execution_count": 43,
   "metadata": {
    "collapsed": false
   },
   "outputs": [
    {
     "name": "stdout",
     "output_type": "stream",
     "text": [
      "[]\n",
      "[]\n",
      "[]\n",
      "[]\n",
      "['<p itemprop=\"description\" lang=\"en\">If you\\'re hankering for a tickle,<br/>Come here for a pickle.<br/>Excitement this place does not lack,<br/>As long as you\\'re ready to throw some back.<br/><br/>My trusted HB, Dave H. and I stepped into this bar which is located on the rim of Chinatown on a Sunday night where the tables and booths were mostly filled with local folks having a good old time. <br/><br/>They are known for their whiskeys and had a special for a shot of their house brand and pickle backs for $5. Pickle backs as in pickle juice! Yes! They buy their pickle juice from a third party vendor and serve it cold with their whiskeys in a separate shot glass. At first I was taken back by the idea but after the fifth one, I was totally sold on it. They also offer the spicy juice as an option for those brave enough to try. <br/><br/>The bartenders was extremely attentive and we had several complimentary shots together. They will also challenge you to games and were always willing to join in on the action which made this bar extremely interactive. They also had a couple big screen tvs for you wall flowers.<br/><br/>What made this place over the top?? The NC-17 Jenga game! They had about three different versions which were all personalized with sayings, illustrations and some creative/dirty jokes. If you see one block with \"aloha\" you\\'ll know it\\'s from me.</p>', '<p itemprop=\"description\" lang=\"en\">Randomly located in the middle of Chinatown this is about as American as a bar can get. It is nice, sleek, clean and the bartenders were friendly, entertaining and engaging the bar crowd. Stopped in here close to 3am and there was a decent crowd but some space at the bar. They card at the door and are serious about it. <br/><br/>The bartender who served us was very friendly, energetic and seemed very excited to be there. I want to say he was cheering out our order, just being fun and silly, it was a pretty jovial environment. They have $3 Genessee cream ale, $5 bud and $5 tator tots from their late night menu. The tots came out pretty quickly and was a big enough portion for several of my friends to share. They came with a chipotle dipping sauce which was really good, but I was happy the bartender brought ketchup out too. <br/>They have two large TVs, and one of those computer video games on the bar. <br/><br/>I thought it was cool that the beers (can and bottle) came with Whiskey Tavern cozies on them. Were these complementary? Not sure, I left mine behind but could have easily walked out with it. Either way I think that\\'s pretty neat.</p>']\n",
      "[]\n",
      "['<p itemprop=\"description\" lang=\"en\">I learned things from Jenga pieces that will help me forever.<br/><br/>Aside from the requisite picklebacks (both spicy and otherwise), I enjoyed a version of a Skittle bomb that involved Stoli, that was quite refreshing.<br/><br/>To quote my first review, \"If you don\\'t like Whiskey Tavern, you\\'re un-American.\"</p>']\n"
     ]
    }
   ],
   "source": [
    "#global pages = 0\n",
    "pg=20\n",
    "url = some[0]['businesses'][0]['mobile_url']\n",
    "url = 'http://www.yelp.com/biz/whiskey-tavern-new-york?start='\n",
    "\n",
    "r = scraping(url)\n",
    "for i in range(7):\n",
    "    \n",
    "    \n",
    "    r = scraping(url+str(pg*i))\n",
    "    print r\n",
    "#rf = reviews(r)"
   ]
  },
  {
   "cell_type": "code",
   "execution_count": 17,
   "metadata": {
    "collapsed": false
   },
   "outputs": [
    {
     "name": "stdout",
     "output_type": "stream",
     "text": [
      "[<p itemprop=\"description\" lang=\"en\">Great bar in the middle Chinatown. Solid American Food (Burgers mainly), decent happy hour drink specials.<br/><br/>Pros: Great Whiskey Selection. Tots. Pretty much however you want them.<br/>Cons: Gets really really busy during peak hours, and the place isnt very spacious<br/>Unique: The waitstaff here is what makes the place great. From waitress to bartender, it could be the middle of happy hour, or dead quiet... they are always smiling and generally cheerful. It speaks volumes about the atmosphere.</p>, <p itemprop=\"description\" lang=\"en\">I learned things from Jenga pieces that will help me forever.<br/><br/>Aside from the requisite picklebacks (both spicy and otherwise), I enjoyed a version of a Skittle bomb that involved Stoli, that was quite refreshing.<br/><br/>To quote my first review, \"If you don't like Whiskey Tavern, you're un-American.\"</p>, <p itemprop=\"description\" lang=\"en\">Loved this place. $5 pickleback for Monday night football and it is deeeeeeelicious. We came here after a fantastic dinner at Shanghai Asian Manor and they both made for a great (and cheap!) night out. We played Jenga, drank, ate cheese puffs, and were merry! Definitely recommend for a good casual fun night out.</p>, <p itemprop=\"description\" lang=\"en\">I was exploring the neighborhood on my own and stumbled upon this gem. Good music, good people, good bartenders. As busy and packed as it was, John and Rob took the time to introduce themselves and learn my name. My glass was never empty. Rob even provided a free shot and some newbie swag since it was my first time. It feels like a dying breed of bar where the staff wants to get to know you because they actually care about you coming back. This is one of the greats.</p>, <p itemprop=\"description\" lang=\"en\">A place to go after pho dinner!<br/><br/>Or, after having been released from jail!*<br/><br/>Whiskey Tavern is a surprising find in Chinatown. I half-expected the type of sleek, quality-oriented (euphemism alert) bar that crawls into a neighborhood while its restaurants still offer $7 meals, but despite most of the Whiskey Tavern's clientele being of the young-white-professional variety, the place seems to harbor no pretensions! The tabletops are very clean. Otherwise, it's a sorta-sports bar that happens to like serving whiskey. Later on, they start blasting dance music and it gets a little rowdier.<br/><br/>Happy hour til 7pm and drafts cover basic, mostly domestic beers. Whiskeys are listed on the back of the drink menu: Think of the 30 most common [Irish, Scotch, rye, bourbon, or whiskey-whiskeys], and that's what they have here. Taco Tuesdays mean $3 tacos (though I think you can already get a $9 plate of 3 tacos from their regular menu?). Picklebacks/spicybacks and whiskey cocktails abound. $10 shot/beer specials.<br/><br/>The place gets crowded, the staff always smiles, the pours are generous, and the whiskey sour wasn't very strong... because it came in a PINT GLASS.<br/><br/>*Central Booking is across the street. After your run-in with the law, Vietnamese food next door plus bourbon here is a good reintroduction to sweet, sweet freedom.**<br/><br/>**Not speaking from experience. ;)</p>, <p itemprop=\"description\" lang=\"en\">Stopped here with my girlfriend after walking around canal street in the freezing cold. \\xa0 We were welcomed in with warm invites from the bartender and staff to warm up. \\xa0Good happy hour deals. \\xa0Had the tater tots ( which were great !!) \\xa0Will absolutely come back again next time we come to the city.</p>, <p itemprop=\"description\" lang=\"en\">Spicy pickle backs!! They're soo good! Best companion to their bacon bowls for sure!<br/><br/>Bacon strips with maple syrup. Dear jesus. So good. <br/><br/>Fun, loud, lively bar with great service and awesome people. Can't complain!</p>, <p itemprop=\"description\" lang=\"en\">Very generous with the drinks, and well priced. can't argue with that. happy hour specials are really good. beer and a shot for $10! <br/>the food is kind of hit or miss...the bacon bowl is really good but then again you can't really mess up bacon. the quesdailla, on the other hand, was no good. the chicken was pretty dry.</p>, <p itemprop=\"description\" lang=\"en\">I'm definitely NOT a fan of low-brow sports bars, but I have to admit, I had a blast at this place. Kind of a low-key college bar feel with a bunch of lawyers and police officers as clients. Keeps it classy and utterly unpretentious. Fun place, good prices, unmemorable beer. <br/><br/>Recommend.</p>, <p itemprop=\"description\" lang=\"en\">Fun place to grab some food and drinks with friends.<br/><br/>They also had some fun games to play. We opted to play \"headbands\" and had a great time playing the ridiculous guessing game. <br/><br/>Food was pretty good. and our waitress hooked us up with some free fireball shots!<br/><br/>Next time I'm in the area, I would stop back in again.</p>, <p itemprop=\"description\" lang=\"en\">This place is great for drinks and a good time, i am definitely going to become a frequent customer.</p>, <p itemprop=\"description\" lang=\"en\">This is the best place ever! The bartenders are the nicest and most generous bartenders you will ever encounter in NYC. I've been to this place numerous times and I have no idea why it took me this long to write a review. Either you come right after work at 5pm or a little later at 10pm, its always welcoming and packed with fun goers left and right. Their bartenders make sure you have a fun night by offering games like jenga and \"toys\" to laugh about. If its your birthday, be ready for some whipped cream surrounded by sparklers coming your way. <br/>The tables in the back can be reserved ahead of time and a photobooth to make lasting memories! Their tatortots are amazing who can forget about their famous pickelbacks. Also, one drink is equivalent to at least 2 drinks elsewhere (price and content)! My girlfriends and I always have a ton of fun since its so casual. Definitely a great place to be when you want to watch what youre spending but still want to have a terrific time!</p>, <p itemprop=\"description\" lang=\"en\">Pickleshots! Pickleshots! And more Pickleshots! I think you get my drift, but Whiskey Tavern is quite the raving, raucous bar to hang out at. I visited on a Friday with some ex-coworkers and it was pretty crowded. The bar is not huge so much of the room is standing. There are a handful of standing room tables next to the bar, but other than that good luck on ordering food and trying to eat it simultaneously with holding your drink. Be sure to get here early around 5:30pm if you want to snag a spot to put your drink and food down! <br/><br/>Luckily my friends were able to get that coveted spot so we were able to order wings, tater tots and tons of drinks/shots! The wings were really good and well portioned. We ordered the Buffalo and BBQ wings and both were fantastic. The tater tots also came in a big serving and we got it with a side of cheese dipping sauce! Sooo good! As for the drinks, they've got an interesting assortment of umbrella cocktails and shots. After the night, I actually couldn't recall which ones I had, but my friends ordered different ones and there weren't any complaints. As for the pickleback shots, mmmm mmmmm. If you're a fan of picklejuice then you will love the chaser for it. It's basically a shot of whiskey with the picklejuice used as a chaser. We had a few of those throughout the night. <br/><br/>I was very surprised at the crowd as everyone was just about a white collar worker. The bar was very noisy, which is not surprising and there are a few TVs on the walls for those interested in standing and catching a sporting event. Like I said, it's a small bar, but ultra casual and a great place to get some bar food and cocktails you don't see everyday.</p>, <p itemprop=\"description\" lang=\"en\">With the impending closure of Winnie's, where I used to frequent but lost the love one bad night (not uncommon with karaoke joints), it's good to know there's still a great bar on Baxter. The bartenders make everyone feel like a regular, there's Jenga and Connect Four, and they serve my favorite cheap ass beer: Genny Cream Ale. Bonus points for the delicious pickle backs, too.</p>, <p itemprop=\"description\" lang=\"en\">Heck yes!! Found my new favorite bar! Great crowd, fantastic music (more than a few times almost everyone in the bar was spontaneously singing along with the music, great service, and friendly bartenders. How could I go wrong? When I found a hair in my drink, the bartender, Seth empathized the way a friend would, apologized and made me a fresh drink. When I tried to buy Seth and Brandon a shot for being so cool, they bought me one, instead! I'm definitely gonna be back. Though I'm rarely in Chinatown, I would go out of my way to come here, especially on a Wed night! I gotta say, when I saw that the back of their \"Whiskey Tavern\" t-shirts said, \"Thanks for coming to Chinatown\" I knew I had found a spot where the establishment gets it. And we the people appreciate it, which is evidenced by the packed bar on a Wed night! Highlight of the evening: when Katy Perry's \"Firework\" came on, they lit some tabletop sparklers! Soo fun!!</p>, <p itemprop=\"description\" lang=\"en\">I dropped by for a few drinks on Friday, and the bartender was fun. Got a great scotch pour too!</p>, <p itemprop=\"description\" lang=\"en\">the best places for pickle backs or my fav SPICY pickle backs! love the back yard area with a open top but wished it was a bit bigger. this place gets so crowded so fast and early. workers here are friendly and love talking to their customers. rob you are awesome! <br/><br/>tater tots, chicken quesadilla, nachos, tacos and basically all their food is really good. <br/><br/>they also have a live dj here on Friday nights. a good time and if you're in the area stop by for a quick drink.</p>, <p itemprop=\"description\" lang=\"en\">Found this place to grab a few beers and apps before going to an event at Santos Party House. <br/><br/>First off - Whiskey tavern is WAY more my scene than Santos (lol). My friends and I were there during happy hour and the prices were awesome - but even their regular prices were super reasonable. And the buffalo chicken fingers were super tasty. <br/><br/>Then I realized that they are a sister bar to Whiskey Town (and I think Whiskey Brooklyn?) and I got really really excited because the other two bars are great. <br/><br/>Can't wait to come back here for a night out and not happy hour! Maybe for my birthday... we'll see...</p>, <p itemprop=\"description\" lang=\"en\">Easily my favorite place in NYC. The bartenders are the friendliest and funnest anywhere I've ever been...EVER! Drinks are reasonable and food is pretty good bar food. Seriously, just go!</p>, <p itemprop=\"description\" lang=\"en\">Awesome!!! Sparklers and pickle shooters galore! This place was great. Cheap beers and fun bartenders. It gets pretty crowded on a Saturday night because it's the place to be. Oh yeah, can't forget the great music. What else is there to say? No complaints here.</p>]\n"
     ]
    }
   ],
   "source": [
    "r"
   ]
  },
  {
   "cell_type": "code",
   "execution_count": null,
   "metadata": {
    "collapsed": false
   },
   "outputs": [],
   "source": [
    "for i in names:\n",
    "    l.replace(' ','+')"
   ]
  },
  {
   "cell_type": "code",
   "execution_count": null,
   "metadata": {
    "collapsed": false
   },
   "outputs": [],
   "source": [
    "'http://www.yelp.com/biz/whiskey-tavern-new-york?start='+str(20)"
   ]
  },
  {
   "cell_type": "code",
   "execution_count": null,
   "metadata": {
    "collapsed": true
   },
   "outputs": [],
   "source": [
    "def reviews(r):\n",
    "    r = map(str, reviews)\n",
    "    for i in range(len(r)):\n",
    "        r[i] =r[i].strip('<p itemprop=\"description\" lang=\"en\">')\n",
    "        r[i]=r[i].strip('</p>')\n",
    "    return r"
   ]
  },
  {
   "cell_type": "code",
   "execution_count": null,
   "metadata": {
    "collapsed": false
   },
   "outputs": [],
   "source": [
    "dates"
   ]
  },
  {
   "cell_type": "code",
   "execution_count": null,
   "metadata": {
    "collapsed": true
   },
   "outputs": [],
   "source": []
  }
 ],
 "metadata": {
  "kernelspec": {
   "display_name": "Python 2",
   "language": "python",
   "name": "python2"
  },
  "language_info": {
   "codemirror_mode": {
    "name": "ipython",
    "version": 2
   },
   "file_extension": ".py",
   "mimetype": "text/x-python",
   "name": "python",
   "nbconvert_exporter": "python",
   "pygments_lexer": "ipython2",
   "version": "2.7.10"
  }
 },
 "nbformat": 4,
 "nbformat_minor": 0
}
