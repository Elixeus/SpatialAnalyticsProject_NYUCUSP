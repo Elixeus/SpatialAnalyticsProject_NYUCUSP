{
 "cells": [
  {
   "cell_type": "code",
   "execution_count": 18,
   "metadata": {
    "collapsed": true
   },
   "outputs": [],
   "source": [
    "# import some packages\n",
    "import numpy as np\n",
    "import pandas as pd\n",
    "import datetime"
   ]
  },
  {
   "cell_type": "code",
   "execution_count": 2,
   "metadata": {
    "collapsed": true
   },
   "outputs": [],
   "source": [
    "# read data from csv\n",
    "data = pd.read_csv('2014NYC_Restaurant_Grades.csv')"
   ]
  },
  {
   "cell_type": "code",
   "execution_count": 24,
   "metadata": {
    "collapsed": false
   },
   "outputs": [
    {
     "name": "stdout",
     "output_type": "stream",
     "text": [
      "67079\n",
      "      CAMIS                    DBA      BORO    BUILDING  \\\n",
      "0  30075445  MORRIS PARK BAKE SHOP     BRONX        1007   \n",
      "1  30112340                WENDY'S  BROOKLYN  469          \n",
      "2  30112340                WENDY'S  BROOKLYN  469          \n",
      "6  30112340                WENDY'S  BROOKLYN  469          \n",
      "7  30112340                WENDY'S  BROOKLYN  469          \n",
      "\n",
      "                                              STREET  ZIPCODE       PHONE  \\\n",
      "0                                    MORRIS PARK AVE    10462  7188924968   \n",
      "1  FLATBUSH AVENUE                               ...    11225  7182875005   \n",
      "2  FLATBUSH AVENUE                               ...    11225  7182875005   \n",
      "6  FLATBUSH AVENUE                               ...    11225  7182875005   \n",
      "7  FLATBUSH AVENUE                               ...    11225  7182875005   \n",
      "\n",
      "  CUISINE DESCRIPTION INSPECTION DATE  \\\n",
      "0              Bakery      03/03/2014   \n",
      "1          Hamburgers      12/30/2014   \n",
      "2          Hamburgers      12/30/2014   \n",
      "6          Hamburgers      07/01/2014   \n",
      "7          Hamburgers      07/01/2014   \n",
      "\n",
      "                                            ACTION VIOLATION CODE  \\\n",
      "0  Violations were cited in the following area(s).            10F   \n",
      "1  Violations were cited in the following area(s).            06C   \n",
      "2  Violations were cited in the following area(s).            10F   \n",
      "6  Violations were cited in the following area(s).            02G   \n",
      "7  Violations were cited in the following area(s).            04J   \n",
      "\n",
      "                               VIOLATION DESCRIPTION CRITICAL FLAG  SCORE  \\\n",
      "0  Non-food contact surface improperly constructe...  Not Critical      2   \n",
      "1  Food not protected from potential source of co...      Critical      8   \n",
      "2  Non-food contact surface improperly constructe...  Not Critical      8   \n",
      "6  Cold food item held above 41º F (smoked fish a...      Critical     23   \n",
      "7  Appropriately scaled metal stem-type thermomet...      Critical     23   \n",
      "\n",
      "  GRADE  GRADE DATE RECORD DATE                        INSPECTION TYPE  MONTH  \n",
      "0     A  03/03/2014  12/03/2015  Cycle Inspection / Initial Inspection      3  \n",
      "1     A  12/30/2014  12/03/2015       Cycle Inspection / Re-inspection     12  \n",
      "2     A  12/30/2014  12/03/2015       Cycle Inspection / Re-inspection     12  \n",
      "6     B  07/01/2014  12/03/2015       Cycle Inspection / Re-inspection      7  \n",
      "7     B  07/01/2014  12/03/2015       Cycle Inspection / Re-inspection      7  \n"
     ]
    }
   ],
   "source": [
    "# look at data\n",
    "print len(data)\n",
    "print data.head()"
   ]
  },
  {
   "cell_type": "code",
   "execution_count": 15,
   "metadata": {
    "collapsed": false
   },
   "outputs": [
    {
     "name": "stdout",
     "output_type": "stream",
     "text": [
      "      CAMIS                    DBA      BORO    BUILDING  \\\n",
      "0  30075445  MORRIS PARK BAKE SHOP     BRONX        1007   \n",
      "1  30112340                WENDY'S  BROOKLYN  469          \n",
      "2  30112340                WENDY'S  BROOKLYN  469          \n",
      "6  30112340                WENDY'S  BROOKLYN  469          \n",
      "7  30112340                WENDY'S  BROOKLYN  469          \n",
      "\n",
      "                                              STREET  ZIPCODE       PHONE  \\\n",
      "0                                    MORRIS PARK AVE    10462  7188924968   \n",
      "1  FLATBUSH AVENUE                               ...    11225  7182875005   \n",
      "2  FLATBUSH AVENUE                               ...    11225  7182875005   \n",
      "6  FLATBUSH AVENUE                               ...    11225  7182875005   \n",
      "7  FLATBUSH AVENUE                               ...    11225  7182875005   \n",
      "\n",
      "  CUISINE DESCRIPTION INSPECTION DATE  \\\n",
      "0              Bakery      03/03/2014   \n",
      "1          Hamburgers      12/30/2014   \n",
      "2          Hamburgers      12/30/2014   \n",
      "6          Hamburgers      07/01/2014   \n",
      "7          Hamburgers      07/01/2014   \n",
      "\n",
      "                                            ACTION VIOLATION CODE  \\\n",
      "0  Violations were cited in the following area(s).            10F   \n",
      "1  Violations were cited in the following area(s).            06C   \n",
      "2  Violations were cited in the following area(s).            10F   \n",
      "6  Violations were cited in the following area(s).            02G   \n",
      "7  Violations were cited in the following area(s).            04J   \n",
      "\n",
      "                               VIOLATION DESCRIPTION CRITICAL FLAG  SCORE  \\\n",
      "0  Non-food contact surface improperly constructe...  Not Critical      2   \n",
      "1  Food not protected from potential source of co...      Critical      8   \n",
      "2  Non-food contact surface improperly constructe...  Not Critical      8   \n",
      "6  Cold food item held above 41º F (smoked fish a...      Critical     23   \n",
      "7  Appropriately scaled metal stem-type thermomet...      Critical     23   \n",
      "\n",
      "  GRADE  GRADE DATE RECORD DATE                        INSPECTION TYPE  \n",
      "0     A  03/03/2014  12/03/2015  Cycle Inspection / Initial Inspection  \n",
      "1     A  12/30/2014  12/03/2015       Cycle Inspection / Re-inspection  \n",
      "2     A  12/30/2014  12/03/2015       Cycle Inspection / Re-inspection  \n",
      "6     B  07/01/2014  12/03/2015       Cycle Inspection / Re-inspection  \n",
      "7     B  07/01/2014  12/03/2015       Cycle Inspection / Re-inspection  \n",
      "67079\n"
     ]
    }
   ],
   "source": [
    "# drop entries where restaurant was not graded\n",
    "data = data.dropna(subset=['GRADE DATE']) \n",
    "print data.head()\n",
    "print len(data)"
   ]
  },
  {
   "cell_type": "code",
   "execution_count": 23,
   "metadata": {
    "collapsed": false
   },
   "outputs": [
    {
     "name": "stdout",
     "output_type": "stream",
     "text": [
      "      CAMIS                    DBA      BORO    BUILDING  \\\n",
      "0  30075445  MORRIS PARK BAKE SHOP     BRONX        1007   \n",
      "1  30112340                WENDY'S  BROOKLYN  469          \n",
      "2  30112340                WENDY'S  BROOKLYN  469          \n",
      "6  30112340                WENDY'S  BROOKLYN  469          \n",
      "7  30112340                WENDY'S  BROOKLYN  469          \n",
      "\n",
      "                                              STREET  ZIPCODE       PHONE  \\\n",
      "0                                    MORRIS PARK AVE    10462  7188924968   \n",
      "1  FLATBUSH AVENUE                               ...    11225  7182875005   \n",
      "2  FLATBUSH AVENUE                               ...    11225  7182875005   \n",
      "6  FLATBUSH AVENUE                               ...    11225  7182875005   \n",
      "7  FLATBUSH AVENUE                               ...    11225  7182875005   \n",
      "\n",
      "  CUISINE DESCRIPTION INSPECTION DATE  \\\n",
      "0              Bakery      03/03/2014   \n",
      "1          Hamburgers      12/30/2014   \n",
      "2          Hamburgers      12/30/2014   \n",
      "6          Hamburgers      07/01/2014   \n",
      "7          Hamburgers      07/01/2014   \n",
      "\n",
      "                                            ACTION VIOLATION CODE  \\\n",
      "0  Violations were cited in the following area(s).            10F   \n",
      "1  Violations were cited in the following area(s).            06C   \n",
      "2  Violations were cited in the following area(s).            10F   \n",
      "6  Violations were cited in the following area(s).            02G   \n",
      "7  Violations were cited in the following area(s).            04J   \n",
      "\n",
      "                               VIOLATION DESCRIPTION CRITICAL FLAG  SCORE  \\\n",
      "0  Non-food contact surface improperly constructe...  Not Critical      2   \n",
      "1  Food not protected from potential source of co...      Critical      8   \n",
      "2  Non-food contact surface improperly constructe...  Not Critical      8   \n",
      "6  Cold food item held above 41º F (smoked fish a...      Critical     23   \n",
      "7  Appropriately scaled metal stem-type thermomet...      Critical     23   \n",
      "\n",
      "  GRADE  GRADE DATE RECORD DATE                        INSPECTION TYPE  MONTH  \n",
      "0     A  03/03/2014  12/03/2015  Cycle Inspection / Initial Inspection      3  \n",
      "1     A  12/30/2014  12/03/2015       Cycle Inspection / Re-inspection     12  \n",
      "2     A  12/30/2014  12/03/2015       Cycle Inspection / Re-inspection     12  \n",
      "6     B  07/01/2014  12/03/2015       Cycle Inspection / Re-inspection      7  \n",
      "7     B  07/01/2014  12/03/2015       Cycle Inspection / Re-inspection      7  \n"
     ]
    }
   ],
   "source": [
    "# get month\n",
    "data['MONTH'] = pd.DatetimeIndex(data['INSPECTION DATE']).month\n",
    "print data.head()"
   ]
  },
  {
   "cell_type": "code",
   "execution_count": 27,
   "metadata": {
    "collapsed": false
   },
   "outputs": [
    {
     "name": "stdout",
     "output_type": "stream",
     "text": [
      "      CAMIS                    DBA      BORO    BUILDING  \\\n",
      "0  30075445  MORRIS PARK BAKE SHOP     BRONX        1007   \n",
      "1  30112340                WENDY'S  BROOKLYN  469          \n",
      "2  30112340                WENDY'S  BROOKLYN  469          \n",
      "6  30112340                WENDY'S  BROOKLYN  469          \n",
      "7  30112340                WENDY'S  BROOKLYN  469          \n",
      "\n",
      "                                              STREET  ZIPCODE  \\\n",
      "0                                    MORRIS PARK AVE    10462   \n",
      "1  FLATBUSH AVENUE                               ...    11225   \n",
      "2  FLATBUSH AVENUE                               ...    11225   \n",
      "6  FLATBUSH AVENUE                               ...    11225   \n",
      "7  FLATBUSH AVENUE                               ...    11225   \n",
      "\n",
      "  CUISINE DESCRIPTION GRADE  SCORE  MONTH  \n",
      "0              Bakery     A      2      3  \n",
      "1          Hamburgers     A      8     12  \n",
      "2          Hamburgers     A      8     12  \n",
      "6          Hamburgers     B     23      7  \n",
      "7          Hamburgers     B     23      7  \n"
     ]
    }
   ],
   "source": [
    "data = data[['CAMIS', 'DBA', 'BORO', 'BUILDING', 'STREET', 'ZIPCODE', 'CUISINE DESCRIPTION', 'GRADE', 'SCORE', 'MONTH']]\n",
    "print data.head()"
   ]
  },
  {
   "cell_type": "code",
   "execution_count": 29,
   "metadata": {
    "collapsed": true
   },
   "outputs": [],
   "source": [
    "# remove duplicates \n",
    "data = data.drop_duplicates()\n",
    "\n",
    "# export to csv\n",
    "data.to_csv('inspections_clean.csv')"
   ]
  }
 ],
 "metadata": {
  "kernelspec": {
   "display_name": "Python 2",
   "language": "python",
   "name": "python2"
  },
  "language_info": {
   "codemirror_mode": {
    "name": "ipython",
    "version": 2
   },
   "file_extension": ".py",
   "mimetype": "text/x-python",
   "name": "python",
   "nbconvert_exporter": "python",
   "pygments_lexer": "ipython2",
   "version": "2.7.10"
  }
 },
 "nbformat": 4,
 "nbformat_minor": 0
}
