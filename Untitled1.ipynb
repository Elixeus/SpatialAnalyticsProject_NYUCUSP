{
 "cells": [
  {
   "cell_type": "code",
   "execution_count": 2,
   "metadata": {
    "collapsed": true
   },
   "outputs": [],
   "source": [
    "import numpy as np\n",
    "import pandas as pd\n",
    "import json\n",
    "import rauth \n",
    "import time"
   ]
  },
  {
   "cell_type": "code",
   "execution_count": 1,
   "metadata": {
    "collapsed": true
   },
   "outputs": [],
   "source": [
    "def get_search_parameters(lat,long):\n",
    "    \n",
    "    #See the Yelp API for more details\n",
    "    params = {}\n",
    "    params[\"term\"] = \"restaurant\"\n",
    "    params[\"ll\"] = \"{},{}\".format(str(lat),str(long))\n",
    "    params[\"radius_filter\"] = \"2000\"\n",
    "    params[\"limit\"] = \"10\"\n",
    " \n",
    "    return params\n",
    "  #See the Yelp API for more details"
   ]
  },
  {
   "cell_type": "code",
   "execution_count": null,
   "metadata": {
    "collapsed": true
   },
   "outputs": [],
   "source": [
    "def get_results(params):\n",
    "    \n",
    " \n",
    "      #Obtain these from Yelp's manage access page\n",
    "    consumer_key = \"cfcCUGuefQQwKTGNjoE0Lg\"\n",
    "    consumer_secret = \"kq-fIb_37FfZJtjdGMXlhh6L3Gs\"\n",
    "    token = \"h6tOB2r_UQbQVfriEZY1NTiz_1_VTBUp\"\n",
    "    token_secret = \"oBPBMNmV65f2p3O3tx0DIPZIxcM\"\n",
    "\n",
    "    session = rauth.OAuth1Session(\n",
    "        consumer_key = consumer_key\n",
    "        ,consumer_secret = consumer_secret\n",
    "        ,access_token = token\n",
    "        ,access_token_secret = token_secret)\n",
    "\n",
    "    request = session.get(\"http://api.yelp.com/v2/search?term=poisoning\",params=params)\n",
    "\n",
    "      #Transforms the JSON API response into a Python dictionary\n",
    "    data = request.json()\n",
    "    session.close()\n",
    "\n",
    "    return data"
   ]
  }
 ],
 "metadata": {
  "kernelspec": {
   "display_name": "Python 2",
   "language": "python",
   "name": "python2"
  },
  "language_info": {
   "codemirror_mode": {
    "name": "ipython",
    "version": 2
   },
   "file_extension": ".py",
   "mimetype": "text/x-python",
   "name": "python",
   "nbconvert_exporter": "python",
   "pygments_lexer": "ipython2",
   "version": "2.7.10"
  }
 },
 "nbformat": 4,
 "nbformat_minor": 0
}
